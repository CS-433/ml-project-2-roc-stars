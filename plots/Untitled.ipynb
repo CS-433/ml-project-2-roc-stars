{
 "cells": [
  {
   "cell_type": "code",
   "execution_count": 2,
   "id": "c847c5f4-f157-4022-8dba-cb194f9c0e53",
   "metadata": {
    "execution": {
     "iopub.execute_input": "2023-12-04T13:11:11.933877Z",
     "iopub.status.busy": "2023-12-04T13:11:11.933025Z",
     "iopub.status.idle": "2023-12-04T13:11:14.766828Z",
     "shell.execute_reply": "2023-12-04T13:11:14.764590Z",
     "shell.execute_reply.started": "2023-12-04T13:11:11.933785Z"
    },
    "tags": []
   },
   "outputs": [
    {
     "name": "stdout",
     "output_type": "stream",
     "text": [
      "Traceback (most recent call last):\n",
      "  File \"/home/ml-project-2-roc-stars/plots/plots.py\", line 19, in <module>\n",
      "    df = pd.read_csv('data/final_data.csv', sep=\";\", header=0, index_col=0)\n",
      "         ^^^^^^^^^^^^^^^^^^^^^^^^^^^^^^^^^^^^^^^^^^^^^^^^^^^^^^^^^^^^^^^^^^\n",
      "  File \"/opt/jlab-env/lib/python3.11/site-packages/pandas/io/parsers/readers.py\", line 912, in read_csv\n",
      "    return _read(filepath_or_buffer, kwds)\n",
      "           ^^^^^^^^^^^^^^^^^^^^^^^^^^^^^^^\n",
      "  File \"/opt/jlab-env/lib/python3.11/site-packages/pandas/io/parsers/readers.py\", line 577, in _read\n",
      "    parser = TextFileReader(filepath_or_buffer, **kwds)\n",
      "             ^^^^^^^^^^^^^^^^^^^^^^^^^^^^^^^^^^^^^^^^^^\n",
      "  File \"/opt/jlab-env/lib/python3.11/site-packages/pandas/io/parsers/readers.py\", line 1407, in __init__\n",
      "    self._engine = self._make_engine(f, self.engine)\n",
      "                   ^^^^^^^^^^^^^^^^^^^^^^^^^^^^^^^^^\n",
      "  File \"/opt/jlab-env/lib/python3.11/site-packages/pandas/io/parsers/readers.py\", line 1661, in _make_engine\n",
      "    self.handles = get_handle(\n",
      "                   ^^^^^^^^^^^\n",
      "  File \"/opt/jlab-env/lib/python3.11/site-packages/pandas/io/common.py\", line 859, in get_handle\n",
      "    handle = open(\n",
      "             ^^^^^\n",
      "FileNotFoundError: [Errno 2] No such file or directory: 'data/final_data.csv'\n"
     ]
    }
   ],
   "source": [
    "!python plots.py"
   ]
  }
 ],
 "metadata": {
  "kernelspec": {
   "display_name": "Python3",
   "language": "python",
   "name": "python3"
  },
  "language_info": {
   "codemirror_mode": {
    "name": "ipython",
    "version": 3
   },
   "file_extension": ".py",
   "mimetype": "text/x-python",
   "name": "python",
   "nbconvert_exporter": "python",
   "pygments_lexer": "ipython3",
   "version": "3.11.5"
  }
 },
 "nbformat": 4,
 "nbformat_minor": 5
}
