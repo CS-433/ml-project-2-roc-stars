{
 "cells": [
  {
   "cell_type": "code",
   "execution_count": 2,
   "id": "de922e6b-567c-4b7e-b206-28706325907b",
   "metadata": {
    "execution": {
     "iopub.execute_input": "2023-12-12T13:19:25.375832Z",
     "iopub.status.busy": "2023-12-12T13:19:25.374891Z",
     "iopub.status.idle": "2023-12-12T13:19:39.886507Z",
     "shell.execute_reply": "2023-12-12T13:19:39.884166Z",
     "shell.execute_reply.started": "2023-12-12T13:19:25.375714Z"
    },
    "tags": []
   },
   "outputs": [
    {
     "name": "stdout",
     "output_type": "stream",
     "text": [
      "Figure(640x480)\n",
      "Explained Variance Ratio obtained with PCA: [0.34013288 0.14669929]\n",
      "Figure(800x600)\n",
      "Figure(640x480)\n",
      "Figure(800x600)\n",
      " Ratio continous features:  0.10465116279069768\n",
      " Ratio categorical features:  0.8953488372093024\n",
      "Figure(800x600)\n",
      "Figure(800x600)\n",
      "52 % of features have a percentage of NaN higher than 15%. \n"
     ]
    }
   ],
   "source": [
    "!python plots.py"
   ]
  },
  {
   "cell_type": "code",
   "execution_count": null,
   "id": "9049fa5c-d578-41c3-8f0e-e65e12a85957",
   "metadata": {},
   "outputs": [],
   "source": []
  }
 ],
 "metadata": {
  "kernelspec": {
   "display_name": "Python3",
   "language": "python",
   "name": "python3"
  },
  "language_info": {
   "codemirror_mode": {
    "name": "ipython",
    "version": 3
   },
   "file_extension": ".py",
   "mimetype": "text/x-python",
   "name": "python",
   "nbconvert_exporter": "python",
   "pygments_lexer": "ipython3",
   "version": "3.11.5"
  }
 },
 "nbformat": 4,
 "nbformat_minor": 5
}
