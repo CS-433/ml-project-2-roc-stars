{
 "cells": [
  {
   "cell_type": "code",
   "execution_count": 1,
   "id": "de922e6b-567c-4b7e-b206-28706325907b",
   "metadata": {
    "execution": {
     "iopub.execute_input": "2023-12-12T13:05:21.890394Z",
     "iopub.status.busy": "2023-12-12T13:05:21.888305Z",
     "iopub.status.idle": "2023-12-12T13:05:35.479635Z",
     "shell.execute_reply": "2023-12-12T13:05:35.477282Z",
     "shell.execute_reply.started": "2023-12-12T13:05:21.890315Z"
    },
    "tags": []
   },
   "outputs": [
    {
     "name": "stdout",
     "output_type": "stream",
     "text": [
      "         ANGST  BELASTUNG  INTRUSIVITAET  ...  TRIGGER_8  TRIGGER_9  SURVEY_NAME\n",
      "1     1.011671   0.566070      -0.007060  ...        0.0        0.0            0\n",
      "3     1.325899   0.566070       1.221369  ...        0.0        0.0            0\n",
      "4     0.068986  -0.153931       1.221369  ...        0.0        0.0            0\n",
      "5    -1.502156  -1.233933      -0.416536  ...        0.0        0.0            1\n",
      "6     0.068986   0.206069       0.811892  ...        0.0        0.0            0\n",
      "...        ...        ...            ...  ...        ...        ...          ...\n",
      "997  -0.559471  -0.873933       0.811892  ...        0.0        0.0            1\n",
      "998  -0.559471  -1.233933      -0.007060  ...        0.0        0.0            1\n",
      "999  -1.187928  -0.873933      -2.054441  ...        0.0        0.0            0\n",
      "1000  0.068986  -0.513932      -2.054441  ...        0.0        0.0            1\n",
      "1001  0.068986  -1.233933      -0.826012  ...        0.0        0.0            0\n",
      "\n",
      "[870 rows x 86 columns]\n"
     ]
    }
   ],
   "source": [
    "!python data_cleaning_pd.py"
   ]
  },
  {
   "cell_type": "code",
   "execution_count": null,
   "id": "9049fa5c-d578-41c3-8f0e-e65e12a85957",
   "metadata": {},
   "outputs": [],
   "source": []
  }
 ],
 "metadata": {
  "kernelspec": {
   "display_name": "Python3",
   "language": "python",
   "name": "python3"
  },
  "language_info": {
   "codemirror_mode": {
    "name": "ipython",
    "version": 3
   },
   "file_extension": ".py",
   "mimetype": "text/x-python",
   "name": "python",
   "nbconvert_exporter": "python",
   "pygments_lexer": "ipython3",
   "version": "3.11.5"
  }
 },
 "nbformat": 4,
 "nbformat_minor": 5
}
