{
 "cells": [
  {
   "cell_type": "code",
   "execution_count": 7,
   "id": "de922e6b-567c-4b7e-b206-28706325907b",
   "metadata": {
    "execution": {
     "iopub.execute_input": "2023-12-12T13:40:12.486828Z",
     "iopub.status.busy": "2023-12-12T13:40:12.485925Z",
     "iopub.status.idle": "2023-12-12T13:41:19.274305Z",
     "shell.execute_reply": "2023-12-12T13:41:19.272202Z",
     "shell.execute_reply.started": "2023-12-12T13:40:12.486729Z"
    },
    "tags": []
   },
   "outputs": [
    {
     "name": "stdout",
     "output_type": "stream",
     "text": [
      "Classification Report:\n",
      "               precision    recall  f1-score   support\n",
      "\n",
      "           0       0.88      0.91      0.90       110\n",
      "           1       0.84      0.80      0.82        64\n",
      "\n",
      "    accuracy                           0.87       174\n",
      "   macro avg       0.86      0.85      0.86       174\n",
      "weighted avg       0.87      0.87      0.87       174\n",
      "\n",
      "Logistic Regression f1 score:  0.816\n",
      "Classification Report:\n",
      "               precision    recall  f1-score   support\n",
      "\n",
      "           0       0.44      0.39      0.42       110\n",
      "           1       0.13      0.16      0.14        64\n",
      "\n",
      "    accuracy                           0.30       174\n",
      "   macro avg       0.29      0.27      0.28       174\n",
      "weighted avg       0.33      0.30      0.31       174\n",
      "\n",
      "GMM f1 score:  0.14184397163120568\n"
     ]
    }
   ],
   "source": [
    "!python methods.py"
   ]
  },
  {
   "cell_type": "code",
   "execution_count": null,
   "id": "9049fa5c-d578-41c3-8f0e-e65e12a85957",
   "metadata": {},
   "outputs": [],
   "source": []
  }
 ],
 "metadata": {
  "kernelspec": {
   "display_name": "Python3",
   "language": "python",
   "name": "python3"
  },
  "language_info": {
   "codemirror_mode": {
    "name": "ipython",
    "version": 3
   },
   "file_extension": ".py",
   "mimetype": "text/x-python",
   "name": "python",
   "nbconvert_exporter": "python",
   "pygments_lexer": "ipython3",
   "version": "3.11.5"
  }
 },
 "nbformat": 4,
 "nbformat_minor": 5
}
