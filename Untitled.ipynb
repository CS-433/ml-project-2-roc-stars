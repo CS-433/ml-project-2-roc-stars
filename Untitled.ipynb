{
 "cells": [
  {
   "cell_type": "code",
   "execution_count": 9,
   "id": "44435aae-0918-404c-b163-38ce402b80a2",
   "metadata": {
    "execution": {
     "iopub.execute_input": "2023-12-16T10:40:12.749068Z",
     "iopub.status.busy": "2023-12-16T10:40:12.748243Z",
     "iopub.status.idle": "2023-12-16T10:40:24.538368Z",
     "shell.execute_reply": "2023-12-16T10:40:24.535814Z",
     "shell.execute_reply.started": "2023-12-16T10:40:12.748995Z"
    },
    "tags": []
   },
   "outputs": [
    {
     "name": "stdout",
     "output_type": "stream",
     "text": [
      "Figure(640x480)\n",
      "Explained Variance Ratio obtained with PCA: [0.34013288 0.14669929]\n",
      "Figure(800x600)\n",
      "Figure(640x480)\n",
      "Figure(800x600)\n",
      " Ratio continous features:  0.10465116279069768\n",
      " Ratio categorical features:  0.8953488372093024\n",
      "Figure(800x600)\n",
      "Figure(800x600)\n",
      "52 % of features have a percentage of NaN higher than 15%. \n",
      "Figure(640x480)\n",
      " Features with significant weights:  ['ANGST', 'ZEITDAUER', 'EMOTIONALE_REAKTION_5', 'EMOTIONALE_REAKTION_8', 'EM_REAKTION_5', 'EM_REAKTION_8', 'KOERPERLICHE_REAKTION_6', 'KOERP_REAKTION_6', 'MODALITAET_6', 'MODALITAET_9', 'STRATEGIE_10', 'STRATEGIE_12', 'TRIGGER_1', 'TRIGGER_2', 'TRIGGER_3', 'TRIGGER_7', 'TRIGGER_8', 'TRIGGER_9']\n"
     ]
    }
   ],
   "source": [
    "!python plots.py"
   ]
  },
  {
   "cell_type": "code",
   "execution_count": 7,
   "id": "618205af-f86a-45fb-a629-c5f9854b70a8",
   "metadata": {
    "execution": {
     "iopub.execute_input": "2023-12-16T10:38:54.862105Z",
     "iopub.status.busy": "2023-12-16T10:38:54.861140Z",
     "iopub.status.idle": "2023-12-16T10:38:58.377140Z",
     "shell.execute_reply": "2023-12-16T10:38:58.375645Z",
     "shell.execute_reply.started": "2023-12-16T10:38:54.862034Z"
    },
    "tags": []
   },
   "outputs": [
    {
     "data": {
      "image/png": "[encoded data removed]",
      "text/plain": [
       "<Figure size 640x480 with 1 Axes>"
      ]
     },
     "metadata": {},
     "output_type": "display_data"
    },
    {
     "name": "stdout",
     "output_type": "stream",
     "text": [
      " Features with significant weights:  ['ANGST', 'ZEITDAUER', 'EMOTIONALE_REAKTION_5', 'EMOTIONALE_REAKTION_8', 'EM_REAKTION_5', 'EM_REAKTION_8', 'KOERPERLICHE_REAKTION_6', 'KOERP_REAKTION_6', 'MODALITAET_6', 'MODALITAET_9', 'STRATEGIE_10', 'STRATEGIE_12', 'TRIGGER_1', 'TRIGGER_2', 'TRIGGER_3', 'TRIGGER_7', 'TRIGGER_8', 'TRIGGER_9']\n"
     ]
    }
   ],
   "source": [
    "import pandas as pd \n",
    "from helper import *\n",
    "from sklearn.model_selection import train_test_split\n",
    "# Import Models\n",
    "from sklearn.linear_model import LogisticRegression\n",
    "from sklearn.mixture import GaussianMixture\n",
    "# Import Evaluation methods\n",
    "from sklearn.metrics import classification_report\n",
    "from sklearn.metrics import f1_score\n",
    "\n",
    "import matplotlib.pyplot as plt\n",
    "\n",
    "\n",
    "# Load dataset\n",
    "df = pd.read_csv('data/final_data.csv', sep=\";\", header=0, index_col=0)\n",
    "\n",
    "X = df.drop(columns=['SURVEY_NAME'])\n",
    "y = df['SURVEY_NAME']\n",
    "\n",
    "X_train, X_test, y_train, y_test = train_test_split(X, y, test_size=0.2, random_state=0)\n",
    "\n",
    "# Logistic Regression\n",
    "\n",
    "#Create the model\n",
    "logreg_model = LogisticRegression(penalty='l2', C=1.0, random_state=42, max_iter=1000)\n",
    "\n",
    "# Train the model\n",
    "logreg_model.fit(X_train, y_train)\n",
    "\n",
    "# Make predictions\n",
    "y_pred_logreg = logreg_model.predict(X_test)\n",
    "\n",
    "# Display the weights\n",
    "weights = logreg_model.coef_\n",
    "intercept = logreg_model.intercept_ # maybe it could also bring smth to look at the intercept\n",
    "\n",
    "# Display the weights\n",
    "weights = logreg_model.coef_[0]  # Assuming binary classification, so there is only one set of weights\n",
    "intercept = logreg_model.intercept_\n",
    "\n",
    "# Selects significant weights\n",
    "weights[np.abs(weights) < 0.5] = 0\n",
    "\n",
    "# Get the indices of non-zero elements\n",
    "nonzero_indices = np.nonzero(weights)[0]\n",
    "\n",
    "# Plot the norm of the weights\n",
    "plt.bar(range(len(weights)), weights)\n",
    "plt.xlabel('Feature Index')\n",
    "plt.ylabel('Norm of Weights')\n",
    "plt.title('Norm of Weights in Logistic Regression')\n",
    "plt.show()\n",
    "\n",
    "# Find inidices with significant weights\n",
    "nonzero_indiced = np.nonzero(weights)\n",
    "\n",
    "# Initialize feature vector\n",
    "features = []\n",
    "\n",
    "# Replace indice by feature\n",
    "for indice in nonzero_indices:\n",
    "    features.append(df.columns[indice])\n",
    "    \n",
    "# Display features\n",
    "print(\" Features with significant weights: \", features)\n",
    "    \n",
    "\n"
   ]
  },
  {
   "cell_type": "code",
   "execution_count": 26,
   "id": "53531b62-8485-4f2c-bc84-44ab0186af44",
   "metadata": {
    "execution": {
     "iopub.execute_input": "2023-12-13T14:31:07.273592Z",
     "iopub.status.busy": "2023-12-13T14:31:07.272566Z",
     "iopub.status.idle": "2023-12-13T14:31:07.286229Z",
     "shell.execute_reply": "2023-12-13T14:31:07.283600Z",
     "shell.execute_reply.started": "2023-12-13T14:31:07.273506Z"
    },
    "tags": []
   },
   "outputs": [
    {
     "name": "stdout",
     "output_type": "stream",
     "text": [
      "[ 0  6 13 16 23 26 34 44 53 56 64 66 76 77 78 82 83 84]\n"
     ]
    }
   ],
   "source": [
    "nonzero_indiced"
   ]
  },
  {
   "cell_type": "code",
   "execution_count": 28,
   "id": "5d382793-50d5-4aac-aeec-2636cb5c70f8",
   "metadata": {
    "execution": {
     "iopub.execute_input": "2023-12-13T14:31:49.993899Z",
     "iopub.status.busy": "2023-12-13T14:31:49.993000Z",
     "iopub.status.idle": "2023-12-13T14:31:50.008598Z",
     "shell.execute_reply": "2023-12-13T14:31:50.005172Z",
     "shell.execute_reply.started": "2023-12-13T14:31:49.993830Z"
    },
    "tags": []
   },
   "outputs": [
    {
     "name": "stdout",
     "output_type": "stream",
     "text": [
      "ANGST\n",
      "ZEITDAUER\n",
      "EMOTIONALE_REAKTION_5\n",
      "EMOTIONALE_REAKTION_8\n",
      "EM_REAKTION_5\n",
      "EM_REAKTION_8\n",
      "KOERPERLICHE_REAKTION_6\n",
      "KOERP_REAKTION_6\n",
      "MODALITAET_6\n",
      "MODALITAET_9\n",
      "STRATEGIE_10\n",
      "STRATEGIE_12\n",
      "TRIGGER_1\n",
      "TRIGGER_2\n",
      "TRIGGER_3\n",
      "TRIGGER_7\n",
      "TRIGGER_8\n",
      "TRIGGER_9\n"
     ]
    }
   ],
   "source": [
    "for indice in nonzero_indices:\n",
    "    print(df.columns[indice])"
   ]
  }
 ],
 "metadata": {
  "kernelspec": {
   "display_name": "Python3",
   "language": "python",
   "name": "python3"
  },
  "language_info": {
   "codemirror_mode": {
    "name": "ipython",
    "version": 3
   },
   "file_extension": ".py",
   "mimetype": "text/x-python",
   "name": "python",
   "nbconvert_exporter": "python",
   "pygments_lexer": "ipython3",
   "version": "3.11.5"
  }
 },
 "nbformat": 4,
 "nbformat_minor": 5
}
