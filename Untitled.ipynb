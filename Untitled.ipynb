{
 "cells": [
  {
   "cell_type": "code",
   "execution_count": 17,
   "id": "2ef06127-4c09-4fad-a289-c412eac9ef03",
   "metadata": {
    "execution": {
     "iopub.execute_input": "2023-12-19T09:34:48.984568Z",
     "iopub.status.busy": "2023-12-19T09:34:48.983524Z",
     "iopub.status.idle": "2023-12-19T09:35:21.967601Z",
     "shell.execute_reply": "2023-12-19T09:35:21.965007Z",
     "shell.execute_reply.started": "2023-12-19T09:34:48.984463Z"
    },
    "tags": []
   },
   "outputs": [
    {
     "name": "stdout",
     "output_type": "stream",
     "text": [
      "Figure(640x480)\n",
      "Explained Variance Ratio obtained with PCA: [0.35308589 0.1508508 ]\n",
      "Figure(800x600)\n",
      "Explained Variance Ratio obtained with PCA: [0.35308589 0.1508508  0.10373489 0.06117545 0.0489623  0.04603666\n",
      " 0.04243278 0.02018389 0.01822716 0.01371615]\n",
      "/home/ML_project_weights/ml-project-2-roc-stars/plots.py:114: MatplotlibDeprecationWarning: The w_xaxis attribute was deprecated in Matplotlib 3.1 and will be removed in 3.8. Use xaxis instead.\n",
      "  ax.w_xaxis.set_pane_color((1, 1, 1, 1.0))\n",
      "/home/ML_project_weights/ml-project-2-roc-stars/plots.py:115: MatplotlibDeprecationWarning: The w_yaxis attribute was deprecated in Matplotlib 3.1 and will be removed in 3.8. Use yaxis instead.\n",
      "  ax.w_yaxis.set_pane_color((1, 1, 1, 1.0))\n",
      "/home/ML_project_weights/ml-project-2-roc-stars/plots.py:116: MatplotlibDeprecationWarning: The w_zaxis attribute was deprecated in Matplotlib 3.1 and will be removed in 3.8. Use zaxis instead.\n",
      "  ax.w_zaxis.set_pane_color((1, 1, 1, 1.0))\n",
      "Figure(800x600)\n",
      "Explained Variance Ratio obtained with PCA: [0.35308589 0.1508508  0.10373489 0.06117545 0.0489623  0.04603666\n",
      " 0.04243278 0.0201839  0.01822718 0.01371627]\n",
      " Ratio continous features:  0.13636363636363635\n",
      " Ratio categorical features:  0.8636363636363636\n",
      "Figure(800x600)\n",
      "Figure(800x600)\n",
      "50 % of features have a percentage of NaN higher than 15%. \n",
      "Figure(800x600)\n",
      "Figure(800x600)\n",
      "Figure(800x600)\n",
      " Features with significant weights:  ['BELASTUNG', 'ZEITDAUER', 'EM_REAKTION_1', 'EM_REAKTION_2', 'EM_REAKTION_4', 'EM_REAKTION_5', 'EM_REAKTION_8', 'EM_REAKTION_9', 'KOERP_REAKTION_4', 'KOERP_REAKTION_5', 'KOERP_REAKTION_6', 'KOERP_REAKTION_7', 'MODALITAET_6', 'MODALITAET_7', 'MODALITAET_9', 'STRATEGIE_10', 'STRATEGIE_11', 'STRATEGIE_12', 'STRATEGIE_3', 'STRATEGIE_4', 'TRIGGER_1', 'TRIGGER_2', 'TRIGGER_3', 'TRIGGER_4', 'TRIGGER_7', 'TRIGGER_9']\n",
      "Threshold 0.2\n",
      " Accuracy:  0.8857142857142857 \n",
      " F1 score : 0.8684210526315789\n",
      "Threshold 0.25\n",
      " Accuracy:  0.8914285714285715 \n",
      " F1 score : 0.87248322147651\n",
      "Threshold 0.30000000000000004\n",
      " Accuracy:  0.8914285714285715 \n",
      " F1 score : 0.87248322147651\n",
      "Threshold 0.35000000000000003\n",
      " Accuracy:  0.8914285714285715 \n",
      " F1 score : 0.8689655172413793\n",
      "Threshold 0.4\n",
      " Accuracy:  0.8914285714285715 \n",
      " F1 score : 0.8671328671328671\n",
      "Threshold 0.45000000000000007\n",
      " Accuracy:  0.8914285714285715 \n",
      " F1 score : 0.8633093525179856\n",
      "Threshold 0.5\n",
      " Accuracy:  0.8742857142857143 \n",
      " F1 score : 0.838235294117647\n",
      "Threshold 0.55\n",
      " Accuracy:  0.8571428571428571 \n",
      " F1 score : 0.8091603053435114\n",
      "Threshold 0.6000000000000001\n",
      " Accuracy:  0.8514285714285714 \n",
      " F1 score : 0.796875\n",
      "Threshold 0.6500000000000001\n",
      " Accuracy:  0.8514285714285714 \n",
      " F1 score : 0.7936507936507936\n",
      "Threshold 0.7000000000000002\n",
      " Accuracy:  0.8285714285714286 \n",
      " F1 score : 0.7540983606557378\n",
      "Threshold 0.7500000000000002\n",
      " Accuracy:  0.8228571428571428 \n",
      " F1 score : 0.743801652892562\n",
      "Threshold 0.8\n",
      " Accuracy:  0.8171428571428572 \n",
      " F1 score : 0.7333333333333334\n",
      "The maximum f1 score is obtained with a threshold set at 0.25 and renders: \n",
      " Accuracy:  0.8914285714285715 \n",
      " F1 score : 0.87248322147651\n",
      "Figure(800x600)\n",
      "[0.78044392 0.85211637 0.88148337 0.903998   0.91896214 0.9325435\n",
      " 0.9448516 ]\n"
     ]
    }
   ],
   "source": [
    "!python plots.py"
   ]
  }
 ],
 "metadata": {
  "kernelspec": {
   "display_name": "Python3",
   "language": "python",
   "name": "python3"
  },
  "language_info": {
   "codemirror_mode": {
    "name": "ipython",
    "version": 3
   },
   "file_extension": ".py",
   "mimetype": "text/x-python",
   "name": "python",
   "nbconvert_exporter": "python",
   "pygments_lexer": "ipython3",
   "version": "3.11.5"
  }
 },
 "nbformat": 4,
 "nbformat_minor": 5
}
