{
 "cells": [
  {
   "cell_type": "code",
   "execution_count": 27,
   "id": "2ef06127-4c09-4fad-a289-c412eac9ef03",
   "metadata": {
    "execution": {
     "iopub.execute_input": "2023-12-19T10:05:43.499968Z",
     "iopub.status.busy": "2023-12-19T10:05:43.499038Z",
     "iopub.status.idle": "2023-12-19T10:05:46.620013Z",
     "shell.execute_reply": "2023-12-19T10:05:46.616862Z",
     "shell.execute_reply.started": "2023-12-19T10:05:43.499858Z"
    },
    "tags": []
   },
   "outputs": [
    {
     "name": "stdout",
     "output_type": "stream",
     "text": [
      "Figure(800x600)\n",
      "Figure(800x800)\n",
      "Figure(800x800)\n",
      "Figure(800x800)\n"
     ]
    }
   ],
   "source": [
    "!python ethics.py"
   ]
  }
 ],
 "metadata": {
  "kernelspec": {
   "display_name": "Python3",
   "language": "python",
   "name": "python3"
  },
  "language_info": {
   "codemirror_mode": {
    "name": "ipython",
    "version": 3
   },
   "file_extension": ".py",
   "mimetype": "text/x-python",
   "name": "python",
   "nbconvert_exporter": "python",
   "pygments_lexer": "ipython3",
   "version": "3.11.5"
  }
 },
 "nbformat": 4,
 "nbformat_minor": 5
}
