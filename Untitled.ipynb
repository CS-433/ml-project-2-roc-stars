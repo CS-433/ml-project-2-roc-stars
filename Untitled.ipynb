{
 "cells": [
  {
   "cell_type": "code",
   "execution_count": 18,
   "id": "de922e6b-567c-4b7e-b206-28706325907b",
   "metadata": {
    "execution": {
     "iopub.execute_input": "2023-12-06T17:09:53.293553Z",
     "iopub.status.busy": "2023-12-06T17:09:53.292655Z",
     "iopub.status.idle": "2023-12-06T17:10:19.851332Z",
     "shell.execute_reply": "2023-12-06T17:10:19.848294Z",
     "shell.execute_reply.started": "2023-12-06T17:09:53.293457Z"
    },
    "tags": []
   },
   "outputs": [
    {
     "name": "stdout",
     "output_type": "stream",
     "text": [
      "Average F1 Score (KNN): 0.7929342986844565\n",
      "Average F1 Score (SVM): 0.8239125211396205\n",
      "Average F1 Score (Logistic Regression): 0.8654894678589372\n",
      "TESSSTTT\n",
      "Classification Report:\n",
      "               precision    recall  f1-score   support\n",
      "\n",
      "           0       0.88      0.91      0.90       110\n",
      "           1       0.84      0.80      0.82        64\n",
      "\n",
      "    accuracy                           0.87       174\n",
      "   macro avg       0.86      0.85      0.86       174\n",
      "weighted avg       0.87      0.87      0.87       174\n",
      "\n"
     ]
    }
   ],
   "source": [
    "!python run.py"
   ]
  }
 ],
 "metadata": {
  "kernelspec": {
   "display_name": "Python3",
   "language": "python",
   "name": "python3"
  },
  "language_info": {
   "codemirror_mode": {
    "name": "ipython",
    "version": 3
   },
   "file_extension": ".py",
   "mimetype": "text/x-python",
   "name": "python",
   "nbconvert_exporter": "python",
   "pygments_lexer": "ipython3",
   "version": "3.11.5"
  }
 },
 "nbformat": 4,
 "nbformat_minor": 5
}
